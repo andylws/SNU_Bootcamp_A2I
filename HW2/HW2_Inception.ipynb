{
  "cells": [
    {
      "cell_type": "markdown",
      "metadata": {
        "id": "view-in-github",
        "colab_type": "text"
      },
      "source": [
        "<a href=\"https://colab.research.google.com/github/andylws/SNU_Bootcamp_A2I/blob/main/HW2/HW2_Inception.ipynb\" target=\"_parent\"><img src=\"https://colab.research.google.com/assets/colab-badge.svg\" alt=\"Open In Colab\"/></a>"
      ]
    },
    {
      "cell_type": "markdown",
      "metadata": {
        "id": "nnHmePS40fFn"
      },
      "source": [
        "# | HW2(~1/13) | Inception Network 구현"
      ]
    },
    {
      "cell_type": "markdown",
      "metadata": {
        "id": "OqgHD9H30fFo"
      },
      "source": [
        "[Inception network](https://www.cv-foundation.org/openaccess/content_cvpr_2015/papers/Szegedy_Going_Deeper_With_2015_CVPR_paper.pdf)는 Inception module 여러개로 구성된 모델이다. 다음 그림을 참고하여 Inception network를 구현하시오.\n",
        "\n",
        "- **채점 기준**\n",
        "  - Inception module을 잘 구현해야 한다.\n",
        "  - 아래의 표에 있는 대로 architecture를 구현해야 한다. (논문과 약간 다르게 auxiliary classifier 등이 생략되어 있다)\n",
        "  - 아래의 **표에 있는 대로 hyperparameter(filter size, stride, filter 수)를 설정**해야 하고, 각 layer 및 module의 **output size가 표와 같게 나와야 한다.**\n",
        "  - test accuracy가 **65% 이상** 나와야 한다.\n",
        "- **제출**\n",
        "  - \"HW2_학번_이름.ipynb\" 형태로 저장하여 Jupyter Notebook을 그대로 제출.\n",
        "    - 예: HW2_2022_12345_keondo.ipynb\n",
        "  - output 지우지 말아 주세요"
      ]
    },
    {
      "cell_type": "markdown",
      "metadata": {
        "id": "b7ixWfU30fFo"
      },
      "source": [
        "## 과제 설명"
      ]
    },
    {
      "cell_type": "markdown",
      "metadata": {
        "id": "6Ey7jCNH0fFo"
      },
      "source": [
        "### Inception Module\n",
        "\n",
        "- `strides`는 모두 1로 설정해야 output size가 맞게 나올 것이다.\n",
        "\n",
        "\n",
        "\n",
        "<img src=\"https://user-images.githubusercontent.com/37704174/108797724-369ef800-75cf-11eb-987a-926657daf61e.JPG\" width=\"400\" height=\"400\"/>  \n",
        "\n"
      ]
    },
    {
      "cell_type": "markdown",
      "metadata": {
        "id": "ckzNKTMr0fFo"
      },
      "source": [
        "### Inception Network Architecture\n",
        "- 아래의 표에 있는대로 구성을 하면 이러한 구조의 모델이 만들어진다.\n",
        "\n",
        "<img src=\"https://user-images.githubusercontent.com/37704174/108797713-2dae2680-75cf-11eb-8593-5a1bf50549da.png\" width=\"400\" height=\"400\"/>  "
      ]
    },
    {
      "cell_type": "markdown",
      "metadata": {
        "id": "8Zuf2ydQ0fFp"
      },
      "source": [
        "### Specification\n",
        "\n",
        "\n",
        "<img src=\"https://user-images.githubusercontent.com/37704174/109782740-8d9a7200-7c4c-11eb-9999-d859b67dc468.JPG\" width=\"600\" height=\"600\"/>  \n",
        "\n",
        "- 이 표에 있는 대로 위에서부터 layer 및 Inception module을 쌓아야 한다.\n",
        "- 모든 `Conv2D`와 `MaxPool2D`의 padding 옵션은 `same`으로 설정해야 output size가 올바르게 나올 것이다.\n",
        "- 표 3행을 보면 convolution의 depth가 2이다. 이것은 `Conv2D` layer가 2개 있다는 뜻이고, 각각의 filter의 수는 64, 192로 설정해야 한다.\n",
        "- Inception module의 hyperparameter 설명\n",
        "  - #1x1: 맨 왼쪽 1x1 convolution layer의 filter 수\n",
        "  - #3x3 reduce: 3x3 convolution layer 이전에 나오는 1x1 convolution layer의 filter 수\n",
        "  - #3x3: 3x3 convolution layer의 filter 수\n",
        "  - #5x5 reduce: 5x5 convolution layer 이전에 나오는 1x1 convolution layer의 filter 수\n",
        "  - #5x5: 5x5 convolution layer의 filter 수\n",
        "  - pool proj: max pooling 다음에 나오는 1x1 convolution layer의 filter 수"
      ]
    },
    {
      "cell_type": "markdown",
      "metadata": {
        "id": "4kzqb8B10fFp"
      },
      "source": [
        "## (Optional) Colab Setup"
      ]
    },
    {
      "cell_type": "code",
      "execution_count": 76,
      "metadata": {
        "id": "UQdOegcC0fFp",
        "colab": {
          "base_uri": "https://localhost:8080/"
        },
        "outputId": "da2e2247-a969-4775-f980-68ddef20e8f4"
      },
      "outputs": [
        {
          "output_type": "stream",
          "name": "stdout",
          "text": [
            "Drive already mounted at /content/drive; to attempt to forcibly remount, call drive.mount(\"/content/drive\", force_remount=True).\n"
          ]
        }
      ],
      "source": [
        "# Colab에 Google Drive를 마운트하면 노트북의 모든 코드가 Google Drive의 모든 파일에 액세스할 수 있게 됨\n",
        "from google.colab import drive\n",
        "drive.mount('/content/drive')"
      ]
    },
    {
      "cell_type": "code",
      "execution_count": 77,
      "metadata": {
        "id": "jtzG3ldr0fFp",
        "colab": {
          "base_uri": "https://localhost:8080/"
        },
        "outputId": "65af7885-7763-48ce-da07-03912769473e"
      },
      "outputs": [
        {
          "output_type": "stream",
          "name": "stdout",
          "text": [
            "/content/drive/MyDrive/Colab Notebooks/A2I_bootcamp/HW2\n"
          ]
        }
      ],
      "source": [
        "\"\"\"\n",
        "Change directory to where this file is located\n",
        "\"\"\"\n",
        "%cd '/content/drive/MyDrive/Colab Notebooks/A2I_bootcamp/HW2'"
      ]
    },
    {
      "cell_type": "markdown",
      "metadata": {
        "id": "DtfJdTkn0fFp"
      },
      "source": [
        "## Import Modules"
      ]
    },
    {
      "cell_type": "code",
      "execution_count": 78,
      "metadata": {
        "id": "pcmXyO0M0fFp"
      },
      "outputs": [],
      "source": [
        "import tensorflow as tf\n",
        "### 자유롭게 import\n",
        "from tensorflow.keras.layers import Input, Dense, Conv2D, Concatenate, Flatten, Add, MaxPooling2D, GlobalAveragePooling2D\n",
        "from tensorflow.keras.datasets import cifar10\n",
        "import os"
      ]
    },
    {
      "cell_type": "markdown",
      "metadata": {
        "id": "sreTcgqm0fFp"
      },
      "source": [
        "## GPU Setting"
      ]
    },
    {
      "cell_type": "code",
      "execution_count": 79,
      "metadata": {
        "id": "CglkPMBZ0fFq",
        "colab": {
          "base_uri": "https://localhost:8080/"
        },
        "outputId": "f41db989-951b-4f5e-80da-f34b6e06e2c3"
      },
      "outputs": [
        {
          "output_type": "stream",
          "name": "stdout",
          "text": [
            "Num_GPUs:1, List:[PhysicalDevice(name='/physical_device:GPU:0', device_type='GPU')]\n"
          ]
        }
      ],
      "source": [
        "\"\"\"\n",
        "Make sure your runtime type is GPU!\n",
        "\"\"\"\n",
        "physical_devices = tf.config.list_physical_devices('GPU')\n",
        "print('Num_GPUs:{}, List:{}'.format(len(physical_devices), physical_devices))"
      ]
    },
    {
      "cell_type": "markdown",
      "metadata": {
        "id": "6RXfpcFz0fFq"
      },
      "source": [
        "## 1. Implement Inception Network\n"
      ]
    },
    {
      "cell_type": "markdown",
      "metadata": {
        "id": "eq5jlPAc0fFq"
      },
      "source": [
        "### Inception Module"
      ]
    },
    {
      "cell_type": "code",
      "execution_count": 80,
      "metadata": {
        "id": "vHJfrHqk0fFq"
      },
      "outputs": [],
      "source": [
        "def InceptionModule(inputs, f_1x1, f_3x3_r, f_3x3, f_5x5_r, f_5x5, f_pool):\n",
        "    \"\"\"\n",
        "    inputs: input of Inception module\n",
        "    f_ : number of filters in the table above\n",
        "    \n",
        "    \"\"\"\n",
        "    ### Q1. Make a Inception Module (as Figure 2) ###\n",
        "    \n",
        "    a = inputs\n",
        "\n",
        "    x = Conv2D(f_1x1, 1, strides=1, activation='relu', padding='same')(a)\n",
        "    \n",
        "    y1 = Conv2D(f_3x3_r, 1, strides=1, activation='relu', padding='same')(a)\n",
        "    z1 = Conv2D(f_5x5_r, 1, strides=1, activation='relu', padding='same')(a)\n",
        "    w1 = MaxPooling2D(pool_size=(3, 3), strides=(1, 1), padding='same')(a)\n",
        "\n",
        "    y2 = Conv2D(f_3x3, 3, strides=1, activation='relu', padding='same')(y1)\n",
        "    z2 = Conv2D(f_5x5, 5, strides=1, activation='relu', padding='same')(z1)\n",
        "    w2 = Conv2D(f_pool, 1, strides=1, activation='relu', padding='same')(w1)\n",
        "\n",
        "    outputs = tf.keras.layers.concatenate([x, y2, z2, w2], axis=-1)\n",
        "    \n",
        "    #######################################\n",
        "    return outputs"
      ]
    },
    {
      "cell_type": "markdown",
      "metadata": {
        "id": "08H5rw-B0fFq"
      },
      "source": [
        "### Inception Network"
      ]
    },
    {
      "cell_type": "code",
      "execution_count": 81,
      "metadata": {
        "id": "BRbPhu2a0fFq"
      },
      "outputs": [],
      "source": [
        "def InceptionNet():\n",
        "    inputs = tf.keras.layers.Input(shape=(32, 32, 3))\n",
        "    \n",
        "    ### Q2. Make a Inception Network according to the above specification ###\n",
        "    \n",
        "    x = Conv2D(64, 7, strides=1, activation='relu', padding='same')(inputs)\n",
        "    x = MaxPooling2D(pool_size=(3, 3), strides=(2, 2))(x)\n",
        "    x = Conv2D(64, 3, strides=1, activation='relu', padding='same')(x)\n",
        "    x = Conv2D(192, 3, strides=1, activation='relu', padding='same')(x)\n",
        "    x = MaxPooling2D(pool_size=(3, 3), strides=(2, 2), padding='same')(x)\n",
        "    x = InceptionModule(x, 64, 96, 128, 16, 32, 32)\n",
        "    x = InceptionModule(x, 128, 128, 192, 32, 96, 64)\n",
        "    x = MaxPooling2D(pool_size=(3, 3), strides=(2, 2), padding='same')(x)\n",
        "    x = InceptionModule(x, 192, 96, 208, 16, 48, 64)\n",
        "    x = InceptionModule(x, 160, 112, 224, 24, 64, 64)\n",
        "    x = InceptionModule(x, 128, 128, 256, 24, 64, 64)\n",
        "    x = InceptionModule(x, 112, 144, 288, 32, 64, 64)\n",
        "    x = InceptionModule(x, 256, 160, 320, 32, 128, 128)\n",
        "    x = MaxPooling2D(pool_size=(3, 3), strides=(2, 2), padding='same')(x)\n",
        "    x = InceptionModule(x, 256, 160, 320, 32, 128, 128)\n",
        "    x = InceptionModule(x, 384, 192, 384, 48, 128, 128)\n",
        "    x = GlobalAveragePooling2D()(x)\n",
        "    x = Dense(10)(x)\n",
        "    \n",
        "    outputs = Dense(10, activation='softmax')(x)\n",
        "    \n",
        "    #########################################################################\n",
        "    \n",
        "    return tf.keras.Model(inputs=inputs, outputs=outputs)"
      ]
    },
    {
      "cell_type": "code",
      "execution_count": 82,
      "metadata": {
        "id": "Xi0bcc3h0fFq"
      },
      "outputs": [],
      "source": [
        "my_inception = InceptionNet()"
      ]
    },
    {
      "cell_type": "markdown",
      "metadata": {
        "id": "BRxK1iht0fFq"
      },
      "source": [
        "### Model Summary\n",
        "\n",
        "아래 셀을 실행 했을 때, 표의 각각에 해당하는 output size가 맞게 나와야 한다."
      ]
    },
    {
      "cell_type": "code",
      "execution_count": 83,
      "metadata": {
        "id": "jsSGxfNq0fFq",
        "colab": {
          "base_uri": "https://localhost:8080/"
        },
        "outputId": "8916c637-6cbd-483c-d51d-9e553029a12e"
      },
      "outputs": [
        {
          "output_type": "stream",
          "name": "stdout",
          "text": [
            "Model: \"model_5\"\n",
            "__________________________________________________________________________________________________\n",
            " Layer (type)                   Output Shape         Param #     Connected to                     \n",
            "==================================================================================================\n",
            " input_6 (InputLayer)           [(None, 32, 32, 3)]  0           []                               \n",
            "                                                                                                  \n",
            " conv2d_285 (Conv2D)            (None, 32, 32, 64)   9472        ['input_6[0][0]']                \n",
            "                                                                                                  \n",
            " max_pooling2d_65 (MaxPooling2D  (None, 15, 15, 64)  0           ['conv2d_285[0][0]']             \n",
            " )                                                                                                \n",
            "                                                                                                  \n",
            " conv2d_286 (Conv2D)            (None, 15, 15, 64)   36928       ['max_pooling2d_65[0][0]']       \n",
            "                                                                                                  \n",
            " conv2d_287 (Conv2D)            (None, 15, 15, 192)  110784      ['conv2d_286[0][0]']             \n",
            "                                                                                                  \n",
            " max_pooling2d_66 (MaxPooling2D  (None, 8, 8, 192)   0           ['conv2d_287[0][0]']             \n",
            " )                                                                                                \n",
            "                                                                                                  \n",
            " conv2d_289 (Conv2D)            (None, 8, 8, 96)     18528       ['max_pooling2d_66[0][0]']       \n",
            "                                                                                                  \n",
            " conv2d_290 (Conv2D)            (None, 8, 8, 16)     3088        ['max_pooling2d_66[0][0]']       \n",
            "                                                                                                  \n",
            " max_pooling2d_67 (MaxPooling2D  (None, 8, 8, 192)   0           ['max_pooling2d_66[0][0]']       \n",
            " )                                                                                                \n",
            "                                                                                                  \n",
            " conv2d_288 (Conv2D)            (None, 8, 8, 64)     12352       ['max_pooling2d_66[0][0]']       \n",
            "                                                                                                  \n",
            " conv2d_291 (Conv2D)            (None, 8, 8, 128)    110720      ['conv2d_289[0][0]']             \n",
            "                                                                                                  \n",
            " conv2d_292 (Conv2D)            (None, 8, 8, 32)     12832       ['conv2d_290[0][0]']             \n",
            "                                                                                                  \n",
            " conv2d_293 (Conv2D)            (None, 8, 8, 32)     6176        ['max_pooling2d_67[0][0]']       \n",
            "                                                                                                  \n",
            " concatenate_45 (Concatenate)   (None, 8, 8, 256)    0           ['conv2d_288[0][0]',             \n",
            "                                                                  'conv2d_291[0][0]',             \n",
            "                                                                  'conv2d_292[0][0]',             \n",
            "                                                                  'conv2d_293[0][0]']             \n",
            "                                                                                                  \n",
            " conv2d_295 (Conv2D)            (None, 8, 8, 128)    32896       ['concatenate_45[0][0]']         \n",
            "                                                                                                  \n",
            " conv2d_296 (Conv2D)            (None, 8, 8, 32)     8224        ['concatenate_45[0][0]']         \n",
            "                                                                                                  \n",
            " max_pooling2d_68 (MaxPooling2D  (None, 8, 8, 256)   0           ['concatenate_45[0][0]']         \n",
            " )                                                                                                \n",
            "                                                                                                  \n",
            " conv2d_294 (Conv2D)            (None, 8, 8, 128)    32896       ['concatenate_45[0][0]']         \n",
            "                                                                                                  \n",
            " conv2d_297 (Conv2D)            (None, 8, 8, 192)    221376      ['conv2d_295[0][0]']             \n",
            "                                                                                                  \n",
            " conv2d_298 (Conv2D)            (None, 8, 8, 96)     76896       ['conv2d_296[0][0]']             \n",
            "                                                                                                  \n",
            " conv2d_299 (Conv2D)            (None, 8, 8, 64)     16448       ['max_pooling2d_68[0][0]']       \n",
            "                                                                                                  \n",
            " concatenate_46 (Concatenate)   (None, 8, 8, 480)    0           ['conv2d_294[0][0]',             \n",
            "                                                                  'conv2d_297[0][0]',             \n",
            "                                                                  'conv2d_298[0][0]',             \n",
            "                                                                  'conv2d_299[0][0]']             \n",
            "                                                                                                  \n",
            " max_pooling2d_69 (MaxPooling2D  (None, 4, 4, 480)   0           ['concatenate_46[0][0]']         \n",
            " )                                                                                                \n",
            "                                                                                                  \n",
            " conv2d_301 (Conv2D)            (None, 4, 4, 96)     46176       ['max_pooling2d_69[0][0]']       \n",
            "                                                                                                  \n",
            " conv2d_302 (Conv2D)            (None, 4, 4, 16)     7696        ['max_pooling2d_69[0][0]']       \n",
            "                                                                                                  \n",
            " max_pooling2d_70 (MaxPooling2D  (None, 4, 4, 480)   0           ['max_pooling2d_69[0][0]']       \n",
            " )                                                                                                \n",
            "                                                                                                  \n",
            " conv2d_300 (Conv2D)            (None, 4, 4, 192)    92352       ['max_pooling2d_69[0][0]']       \n",
            "                                                                                                  \n",
            " conv2d_303 (Conv2D)            (None, 4, 4, 208)    179920      ['conv2d_301[0][0]']             \n",
            "                                                                                                  \n",
            " conv2d_304 (Conv2D)            (None, 4, 4, 48)     19248       ['conv2d_302[0][0]']             \n",
            "                                                                                                  \n",
            " conv2d_305 (Conv2D)            (None, 4, 4, 64)     30784       ['max_pooling2d_70[0][0]']       \n",
            "                                                                                                  \n",
            " concatenate_47 (Concatenate)   (None, 4, 4, 512)    0           ['conv2d_300[0][0]',             \n",
            "                                                                  'conv2d_303[0][0]',             \n",
            "                                                                  'conv2d_304[0][0]',             \n",
            "                                                                  'conv2d_305[0][0]']             \n",
            "                                                                                                  \n",
            " conv2d_307 (Conv2D)            (None, 4, 4, 112)    57456       ['concatenate_47[0][0]']         \n",
            "                                                                                                  \n",
            " conv2d_308 (Conv2D)            (None, 4, 4, 24)     12312       ['concatenate_47[0][0]']         \n",
            "                                                                                                  \n",
            " max_pooling2d_71 (MaxPooling2D  (None, 4, 4, 512)   0           ['concatenate_47[0][0]']         \n",
            " )                                                                                                \n",
            "                                                                                                  \n",
            " conv2d_306 (Conv2D)            (None, 4, 4, 160)    82080       ['concatenate_47[0][0]']         \n",
            "                                                                                                  \n",
            " conv2d_309 (Conv2D)            (None, 4, 4, 224)    226016      ['conv2d_307[0][0]']             \n",
            "                                                                                                  \n",
            " conv2d_310 (Conv2D)            (None, 4, 4, 64)     38464       ['conv2d_308[0][0]']             \n",
            "                                                                                                  \n",
            " conv2d_311 (Conv2D)            (None, 4, 4, 64)     32832       ['max_pooling2d_71[0][0]']       \n",
            "                                                                                                  \n",
            " concatenate_48 (Concatenate)   (None, 4, 4, 512)    0           ['conv2d_306[0][0]',             \n",
            "                                                                  'conv2d_309[0][0]',             \n",
            "                                                                  'conv2d_310[0][0]',             \n",
            "                                                                  'conv2d_311[0][0]']             \n",
            "                                                                                                  \n",
            " conv2d_313 (Conv2D)            (None, 4, 4, 128)    65664       ['concatenate_48[0][0]']         \n",
            "                                                                                                  \n",
            " conv2d_314 (Conv2D)            (None, 4, 4, 24)     12312       ['concatenate_48[0][0]']         \n",
            "                                                                                                  \n",
            " max_pooling2d_72 (MaxPooling2D  (None, 4, 4, 512)   0           ['concatenate_48[0][0]']         \n",
            " )                                                                                                \n",
            "                                                                                                  \n",
            " conv2d_312 (Conv2D)            (None, 4, 4, 128)    65664       ['concatenate_48[0][0]']         \n",
            "                                                                                                  \n",
            " conv2d_315 (Conv2D)            (None, 4, 4, 256)    295168      ['conv2d_313[0][0]']             \n",
            "                                                                                                  \n",
            " conv2d_316 (Conv2D)            (None, 4, 4, 64)     38464       ['conv2d_314[0][0]']             \n",
            "                                                                                                  \n",
            " conv2d_317 (Conv2D)            (None, 4, 4, 64)     32832       ['max_pooling2d_72[0][0]']       \n",
            "                                                                                                  \n",
            " concatenate_49 (Concatenate)   (None, 4, 4, 512)    0           ['conv2d_312[0][0]',             \n",
            "                                                                  'conv2d_315[0][0]',             \n",
            "                                                                  'conv2d_316[0][0]',             \n",
            "                                                                  'conv2d_317[0][0]']             \n",
            "                                                                                                  \n",
            " conv2d_319 (Conv2D)            (None, 4, 4, 144)    73872       ['concatenate_49[0][0]']         \n",
            "                                                                                                  \n",
            " conv2d_320 (Conv2D)            (None, 4, 4, 32)     16416       ['concatenate_49[0][0]']         \n",
            "                                                                                                  \n",
            " max_pooling2d_73 (MaxPooling2D  (None, 4, 4, 512)   0           ['concatenate_49[0][0]']         \n",
            " )                                                                                                \n",
            "                                                                                                  \n",
            " conv2d_318 (Conv2D)            (None, 4, 4, 112)    57456       ['concatenate_49[0][0]']         \n",
            "                                                                                                  \n",
            " conv2d_321 (Conv2D)            (None, 4, 4, 288)    373536      ['conv2d_319[0][0]']             \n",
            "                                                                                                  \n",
            " conv2d_322 (Conv2D)            (None, 4, 4, 64)     51264       ['conv2d_320[0][0]']             \n",
            "                                                                                                  \n",
            " conv2d_323 (Conv2D)            (None, 4, 4, 64)     32832       ['max_pooling2d_73[0][0]']       \n",
            "                                                                                                  \n",
            " concatenate_50 (Concatenate)   (None, 4, 4, 528)    0           ['conv2d_318[0][0]',             \n",
            "                                                                  'conv2d_321[0][0]',             \n",
            "                                                                  'conv2d_322[0][0]',             \n",
            "                                                                  'conv2d_323[0][0]']             \n",
            "                                                                                                  \n",
            " conv2d_325 (Conv2D)            (None, 4, 4, 160)    84640       ['concatenate_50[0][0]']         \n",
            "                                                                                                  \n",
            " conv2d_326 (Conv2D)            (None, 4, 4, 32)     16928       ['concatenate_50[0][0]']         \n",
            "                                                                                                  \n",
            " max_pooling2d_74 (MaxPooling2D  (None, 4, 4, 528)   0           ['concatenate_50[0][0]']         \n",
            " )                                                                                                \n",
            "                                                                                                  \n",
            " conv2d_324 (Conv2D)            (None, 4, 4, 256)    135424      ['concatenate_50[0][0]']         \n",
            "                                                                                                  \n",
            " conv2d_327 (Conv2D)            (None, 4, 4, 320)    461120      ['conv2d_325[0][0]']             \n",
            "                                                                                                  \n",
            " conv2d_328 (Conv2D)            (None, 4, 4, 128)    102528      ['conv2d_326[0][0]']             \n",
            "                                                                                                  \n",
            " conv2d_329 (Conv2D)            (None, 4, 4, 128)    67712       ['max_pooling2d_74[0][0]']       \n",
            "                                                                                                  \n",
            " concatenate_51 (Concatenate)   (None, 4, 4, 832)    0           ['conv2d_324[0][0]',             \n",
            "                                                                  'conv2d_327[0][0]',             \n",
            "                                                                  'conv2d_328[0][0]',             \n",
            "                                                                  'conv2d_329[0][0]']             \n",
            "                                                                                                  \n",
            " max_pooling2d_75 (MaxPooling2D  (None, 2, 2, 832)   0           ['concatenate_51[0][0]']         \n",
            " )                                                                                                \n",
            "                                                                                                  \n",
            " conv2d_331 (Conv2D)            (None, 2, 2, 160)    133280      ['max_pooling2d_75[0][0]']       \n",
            "                                                                                                  \n",
            " conv2d_332 (Conv2D)            (None, 2, 2, 32)     26656       ['max_pooling2d_75[0][0]']       \n",
            "                                                                                                  \n",
            " max_pooling2d_76 (MaxPooling2D  (None, 2, 2, 832)   0           ['max_pooling2d_75[0][0]']       \n",
            " )                                                                                                \n",
            "                                                                                                  \n",
            " conv2d_330 (Conv2D)            (None, 2, 2, 256)    213248      ['max_pooling2d_75[0][0]']       \n",
            "                                                                                                  \n",
            " conv2d_333 (Conv2D)            (None, 2, 2, 320)    461120      ['conv2d_331[0][0]']             \n",
            "                                                                                                  \n",
            " conv2d_334 (Conv2D)            (None, 2, 2, 128)    102528      ['conv2d_332[0][0]']             \n",
            "                                                                                                  \n",
            " conv2d_335 (Conv2D)            (None, 2, 2, 128)    106624      ['max_pooling2d_76[0][0]']       \n",
            "                                                                                                  \n",
            " concatenate_52 (Concatenate)   (None, 2, 2, 832)    0           ['conv2d_330[0][0]',             \n",
            "                                                                  'conv2d_333[0][0]',             \n",
            "                                                                  'conv2d_334[0][0]',             \n",
            "                                                                  'conv2d_335[0][0]']             \n",
            "                                                                                                  \n",
            " conv2d_337 (Conv2D)            (None, 2, 2, 192)    159936      ['concatenate_52[0][0]']         \n",
            "                                                                                                  \n",
            " conv2d_338 (Conv2D)            (None, 2, 2, 48)     39984       ['concatenate_52[0][0]']         \n",
            "                                                                                                  \n",
            " max_pooling2d_77 (MaxPooling2D  (None, 2, 2, 832)   0           ['concatenate_52[0][0]']         \n",
            " )                                                                                                \n",
            "                                                                                                  \n",
            " conv2d_336 (Conv2D)            (None, 2, 2, 384)    319872      ['concatenate_52[0][0]']         \n",
            "                                                                                                  \n",
            " conv2d_339 (Conv2D)            (None, 2, 2, 384)    663936      ['conv2d_337[0][0]']             \n",
            "                                                                                                  \n",
            " conv2d_340 (Conv2D)            (None, 2, 2, 128)    153728      ['conv2d_338[0][0]']             \n",
            "                                                                                                  \n",
            " conv2d_341 (Conv2D)            (None, 2, 2, 128)    106624      ['max_pooling2d_77[0][0]']       \n",
            "                                                                                                  \n",
            " concatenate_53 (Concatenate)   (None, 2, 2, 1024)   0           ['conv2d_336[0][0]',             \n",
            "                                                                  'conv2d_339[0][0]',             \n",
            "                                                                  'conv2d_340[0][0]',             \n",
            "                                                                  'conv2d_341[0][0]']             \n",
            "                                                                                                  \n",
            " global_average_pooling2d_5 (Gl  (None, 1024)        0           ['concatenate_53[0][0]']         \n",
            " obalAveragePooling2D)                                                                            \n",
            "                                                                                                  \n",
            " dense_10 (Dense)               (None, 10)           10250       ['global_average_pooling2d_5[0][0\n",
            "                                                                 ]']                              \n",
            "                                                                                                  \n",
            " dense_11 (Dense)               (None, 10)           110         ['dense_10[0][0]']               \n",
            "                                                                                                  \n",
            "==================================================================================================\n",
            "Total params: 6,016,680\n",
            "Trainable params: 6,016,680\n",
            "Non-trainable params: 0\n",
            "__________________________________________________________________________________________________\n"
          ]
        }
      ],
      "source": [
        "my_inception.summary()"
      ]
    },
    {
      "cell_type": "markdown",
      "metadata": {
        "id": "_jTlhJr50fFq"
      },
      "source": [
        "## 2. Dataset"
      ]
    },
    {
      "cell_type": "markdown",
      "metadata": {
        "id": "9BzMxdWx0fFq"
      },
      "source": [
        "### Training Data\n",
        "\n",
        "아래의 데이터를 이용한다."
      ]
    },
    {
      "cell_type": "code",
      "execution_count": 84,
      "metadata": {
        "id": "HhKIX6wM0fFq"
      },
      "outputs": [],
      "source": [
        "### DO NOT MODIFY ###\n",
        "\n",
        "#Load data\n",
        "(x_train, y_train), (x_test, y_test) = cifar10.load_data()\n",
        "\n",
        "#Split train set into train/valid set\n",
        "from sklearn import model_selection\n",
        "x_train, x_valid, y_train, y_valid = model_selection.train_test_split(x_train, y_train,test_size=0.1)"
      ]
    },
    {
      "cell_type": "markdown",
      "metadata": {
        "id": "RSWRXTR-0fFr"
      },
      "source": [
        "### Data Preprocessing\n",
        "\n",
        "원하는 대로 데이터를 전처리 해주면 된다."
      ]
    },
    {
      "cell_type": "code",
      "execution_count": 85,
      "metadata": {
        "id": "tsdM94z30fFr",
        "colab": {
          "base_uri": "https://localhost:8080/"
        },
        "outputId": "20da5446-7e2a-4764-a68b-aa38f2f9b76e"
      },
      "outputs": [
        {
          "output_type": "stream",
          "name": "stdout",
          "text": [
            "(45000, 32, 32, 3)\n"
          ]
        }
      ],
      "source": [
        "## Q3. Data preprocessing (ex. normalize...) ##\n",
        "x_train, x_valid, x_test = x_train / 255.0, x_valid / 255.0, x_test / 255.0\n",
        "print(x_train.shape)\n",
        "###############################################"
      ]
    },
    {
      "cell_type": "markdown",
      "metadata": {
        "id": "BG4ciUAn0fFr"
      },
      "source": [
        "## 3. Training"
      ]
    },
    {
      "cell_type": "markdown",
      "metadata": {
        "id": "1TF1J-S10fFr"
      },
      "source": [
        "### Model Compile\n",
        "\n",
        "Optimizer, Loss function을 알맞게 설정한다. <br>\n",
        "Callbacks도 자유롭게 사용한다."
      ]
    },
    {
      "cell_type": "code",
      "execution_count": 86,
      "metadata": {
        "id": "rEhtrH8M0fFr"
      },
      "outputs": [],
      "source": [
        "## Q4. Model compile ##\n",
        "my_inception.compile(optimizer=tf.keras.optimizers.Adam(learning_rate=0.01), \n",
        "                     loss=tf.keras.losses.SparseCategoricalCrossentropy(), \n",
        "                     metrics=['accuracy'])\n",
        "#######################"
      ]
    },
    {
      "cell_type": "markdown",
      "metadata": {
        "id": "WAKfP45l0fFr"
      },
      "source": [
        "### Model Training\n",
        "\n",
        "hyperparameter를 적절히 설정한다. (epochs 등..)"
      ]
    },
    {
      "cell_type": "code",
      "source": [
        "checkpoint_dir = './training_checkpoints_cnn'\n",
        "checkpoint_prefix = os.path.join(checkpoint_dir, \"ckpt_{epoch}\")\n",
        "\n",
        "def decay(epoch):\n",
        "    if epoch < 4:\n",
        "        return 3e-4\n",
        "    elif epoch >=4 and epoch < 7:\n",
        "        return 1e-4\n",
        "    else:\n",
        "        return 3e-5\n",
        "    \n",
        "callbacks = [\n",
        "    tf.keras.callbacks.ModelCheckpoint(filepath=checkpoint_prefix, save_weights_only = True),\n",
        "    tf.keras.callbacks.LearningRateScheduler(decay)\n",
        "]"
      ],
      "metadata": {
        "id": "0xze_cUCTBHC"
      },
      "execution_count": 87,
      "outputs": []
    },
    {
      "cell_type": "markdown",
      "source": [],
      "metadata": {
        "id": "5w1P9-EJTAlJ"
      }
    },
    {
      "cell_type": "code",
      "execution_count": 88,
      "metadata": {
        "id": "s5inO5l-0fFr",
        "colab": {
          "base_uri": "https://localhost:8080/"
        },
        "outputId": "902bc367-2ff3-443f-b69c-12bcd6642c14"
      },
      "outputs": [
        {
          "output_type": "stream",
          "name": "stdout",
          "text": [
            "Epoch 1/10\n",
            "1407/1407 [==============================] - 38s 25ms/step - loss: 1.8624 - accuracy: 0.2718 - val_loss: 1.6421 - val_accuracy: 0.3778 - lr: 3.0000e-04\n",
            "Epoch 2/10\n",
            "1407/1407 [==============================] - 35s 25ms/step - loss: 1.4626 - accuracy: 0.4455 - val_loss: 1.3979 - val_accuracy: 0.4834 - lr: 3.0000e-04\n",
            "Epoch 3/10\n",
            "1407/1407 [==============================] - 34s 24ms/step - loss: 1.2255 - accuracy: 0.5516 - val_loss: 1.2534 - val_accuracy: 0.5568 - lr: 3.0000e-04\n",
            "Epoch 4/10\n",
            "1407/1407 [==============================] - 34s 24ms/step - loss: 1.0558 - accuracy: 0.6236 - val_loss: 1.0633 - val_accuracy: 0.6186 - lr: 3.0000e-04\n",
            "Epoch 5/10\n",
            "1407/1407 [==============================] - 34s 24ms/step - loss: 0.8038 - accuracy: 0.7114 - val_loss: 0.9251 - val_accuracy: 0.6738 - lr: 1.0000e-04\n",
            "Epoch 6/10\n",
            "1407/1407 [==============================] - 34s 25ms/step - loss: 0.7075 - accuracy: 0.7495 - val_loss: 0.8995 - val_accuracy: 0.6920 - lr: 1.0000e-04\n",
            "Epoch 7/10\n",
            "1407/1407 [==============================] - 34s 24ms/step - loss: 0.6233 - accuracy: 0.7800 - val_loss: 0.9243 - val_accuracy: 0.6838 - lr: 1.0000e-04\n",
            "Epoch 8/10\n",
            "1407/1407 [==============================] - 34s 24ms/step - loss: 0.4650 - accuracy: 0.8402 - val_loss: 0.9415 - val_accuracy: 0.7092 - lr: 3.0000e-05\n",
            "Epoch 9/10\n",
            "1407/1407 [==============================] - 35s 25ms/step - loss: 0.4094 - accuracy: 0.8611 - val_loss: 0.9714 - val_accuracy: 0.7082 - lr: 3.0000e-05\n",
            "Epoch 10/10\n",
            "1407/1407 [==============================] - 34s 24ms/step - loss: 0.3636 - accuracy: 0.8780 - val_loss: 1.0235 - val_accuracy: 0.7074 - lr: 3.0000e-05\n"
          ]
        }
      ],
      "source": [
        "## Q5. Set hyperparameters & training ##\n",
        "hist = my_inception.fit(x=x_train, \n",
        "                        y=y_train, \n",
        "                        epochs=10, \n",
        "                        callbacks=callbacks,\n",
        "                        validation_data=(x_valid, y_valid)\n",
        "                        )\n",
        "########################################"
      ]
    },
    {
      "cell_type": "markdown",
      "metadata": {
        "id": "MtERovo60fFr"
      },
      "source": [
        "## 참고 >\n",
        "\n",
        "조교가 학습한 모델의 validation accuracy를 그래프로 나타내 보았다."
      ]
    },
    {
      "cell_type": "code",
      "execution_count": 89,
      "metadata": {
        "id": "jvx8GtJu0fFr",
        "outputId": "0fb9be73-81fd-4cef-923a-74ff10ab4499",
        "scrolled": true,
        "colab": {
          "base_uri": "https://localhost:8080/",
          "height": 302
        }
      },
      "outputs": [
        {
          "output_type": "display_data",
          "data": {
            "text/plain": [
              "<Figure size 432x288 with 1 Axes>"
            ],
            "image/png": "[encoded data removed]"
          },
          "metadata": {
            "needs_background": "light"
          }
        }
      ],
      "source": [
        "import matplotlib.pyplot as plt\n",
        "\n",
        "plt.plot(hist.history['val_accuracy'])\n",
        "plt.title('Validation Accuracy', fontsize=15)\n",
        "plt.xlabel('epochs', fontsize=15)\n",
        "plt.ylabel('Acc.', fontsize=15)\n",
        "\n",
        "plt.show()"
      ]
    },
    {
      "cell_type": "markdown",
      "metadata": {
        "id": "SqxUlR2V0fFr"
      },
      "source": [
        "## Test Accuracy\n",
        "\n",
        "Test accuracy 측정 결과 **65% 이상**이 나와야 한다."
      ]
    },
    {
      "cell_type": "code",
      "execution_count": 90,
      "metadata": {
        "id": "0Fa_78sc0fFr",
        "colab": {
          "base_uri": "https://localhost:8080/"
        },
        "outputId": "25a8fcf7-295e-40b5-e699-ff3c52c61a1d"
      },
      "outputs": [
        {
          "output_type": "stream",
          "name": "stdout",
          "text": [
            "313/313 [==============================] - 3s 9ms/step - loss: 1.0144 - accuracy: 0.7094\n"
          ]
        },
        {
          "output_type": "execute_result",
          "data": {
            "text/plain": [
              "[1.0144338607788086, 0.7093999981880188]"
            ]
          },
          "metadata": {},
          "execution_count": 90
        }
      ],
      "source": [
        "### DO NOT MODIFY ###\n",
        "my_inception.evaluate(x_test, y_test)"
      ]
    }
  ],
  "metadata": {
    "colab": {
      "provenance": [],
      "include_colab_link": true
    },
    "kernelspec": {
      "display_name": "Python 3 (ipykernel)",
      "language": "python",
      "name": "python3"
    },
    "language_info": {
      "codemirror_mode": {
        "name": "ipython",
        "version": 3
      },
      "file_extension": ".py",
      "mimetype": "text/x-python",
      "name": "python",
      "nbconvert_exporter": "python",
      "pygments_lexer": "ipython3",
      "version": "3.8.13"
    },
    "accelerator": "GPU",
    "gpuClass": "standard"
  },
  "nbformat": 4,
  "nbformat_minor": 0
}